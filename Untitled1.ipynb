{
 "cells": [
  {
   "cell_type": "code",
   "execution_count": 17,
   "id": "eff40465",
   "metadata": {},
   "outputs": [
    {
     "name": "stdout",
     "output_type": "stream",
     "text": [
      "Iniciando script...\n",
      "Carregando dataset principal...\n",
      "Criando matriz de conexão...\n"
     ]
    }
   ],
   "source": [
    "import numpy as np\n",
    "import pandas as pd\n",
    "import random\n",
    "from os.path import exists\n",
    "\n",
    "from sklearn.metrics import mean_squared_error\n",
    "from sklearn.utils import shuffle\n",
    "\n",
    "from utils.graphrec_automated import GraphRec\n",
    "from utils.metrics import queries_ndcg, mean_ap\n",
    "\n",
    "import warnings\n",
    "warnings.filterwarnings(\"ignore\", category=DeprecationWarning) \n",
    "warnings.simplefilter(action='ignore', category=FutureWarning)\n",
    "warnings.simplefilter(action='ignore', category=UserWarning)\n",
    "warnings.filterwarnings('ignore')\n",
    "\n",
    "\n",
    "POSITIVE_VALUE = 5\n",
    "NEGATIVE_VALUE = 1\n",
    "\n",
    "USER_NUM=5000\n",
    "ITEM_NUM=15000\n",
    "\n",
    "def get_dataset(dataset, perc=0.9):\n",
    "    rows = len(dataset)\n",
    "    df = dataset.iloc[np.random.permutation(rows)].reset_index(drop=True)\n",
    "    for col in (\"user\", \"item\"):\n",
    "        df[col] = df[col].astype(np.int32)\n",
    "        df[\"rate\"] = df[\"rate\"].astype(np.float32)\n",
    "\n",
    "    split_index = int(rows * perc)\n",
    "    df_train = df[0:split_index]\n",
    "    df_test = df[split_index:].reset_index(drop=True)\n",
    "    return df_train, df_test\n",
    "\n",
    "def reduce_dimensionality(df_ratings, MAX_USERS_DESIRED = USER_NUM, MAX_ITEMS_DESIRED = ITEM_NUM):\n",
    "    # print(\"Reduzindo dimensionalidade\")\n",
    "    # print(\"Tamanho inicial --- \", df_ratings.size)\n",
    "    # index_max_user = df_ratings.loc[df_ratings.user >= MAX_USERS_DESIRED].index[0]\n",
    "    # df_ratings = df_ratings[:index_max_user]\n",
    "    # df_ratings.drop(df_ratings[df_ratings['item'] >= MAX_ITEMS_DESIRED].index, inplace = True)\n",
    "    # print(\"Redução completa\")\n",
    "    # print(\"Usuários restantes --- \", df_ratings['user'].max())\n",
    "    # print(\"Items restantes --- \", df_ratings['item'].max())\n",
    "    # print(\"Tamanho final da base --- \", df_ratings.size)\n",
    "    # return df_ratings\n",
    "    # Filtra o DataFrame original para manter apenas as linhas correspondentes aos N usuários mais frequentes\n",
    "    df_filtrado = df_ratings[(df_ratings['user'] <= MAX_USERS_DESIRED) & (df_ratings['item'] <= MAX_ITEMS_DESIRED)]\n",
    "    \n",
    "    return df_filtrado\n",
    "\n",
    "  \n",
    "def read_process(filname, sep=\"\\t\"):\n",
    "    col_names = [\"user\", \"item\", \"rate\", \"st\"]\n",
    "    df = pd.read_csv(filname, sep=sep, header=None, names=col_names, engine='python')\n",
    "    df[\"user\"] -= 1\n",
    "    df[\"item\"] -= 1\n",
    "    for col in (\"user\", \"item\"):\n",
    "        df[col] = df[col].astype(np.int32)\n",
    "    df[\"rate\"] = df[\"rate\"].astype(np.float32)\n",
    "    return df\n",
    "\n",
    "def replace_value(value):\n",
    "    if value > 3:\n",
    "        return 1\n",
    "    else:\n",
    "        return 0\n",
    "\n",
    "def pre_process_dataset():\n",
    "    print(\"Iniciando script...\")\n",
    "    print(\"Carregando dataset principal...\")\n",
    "    df_user_item = pd.read_csv('./data/ifgproduz/relation_list.txt',  sep=\"\\t\")\n",
    "    ### Transformar essa lista em uma matriz de conexão\n",
    "    print(\"Criando matriz de conexão...\")\n",
    "\n",
    "    df_user_item.rename(columns={'nota': 'rate'}, inplace=True)\n",
    "    df_user_item = df_user_item.rename({'id_producao_id': 'item'}, axis=1)\n",
    "    df_user_item = df_user_item.rename({'id_curriculo_id': 'user'}, axis=1)\n",
    "\n",
    "    # usuario_map = {usuario_antigo: novo_id for novo_id, usuario_antigo in enumerate(df_user_item['user'].unique())}\n",
    "    # df_user_item['org_user'] = df_user_item['user']  # Adiciona uma coluna para o ID de usuário antigo\n",
    "    # df_user_item['user'] = df_user_item['user'].map(usuario_map)\n",
    "\n",
    "    users = df_user_item['user'].unique()\n",
    "    users.sort()\n",
    "    new_id = 0\n",
    "    for u in users:\n",
    "        df_user_item.loc[df_user_item['user'] == u, 'org_user'] = u\n",
    "        df_user_item.loc[df_user_item['user'] == u, 'user'] = new_id\n",
    "        new_id = new_id + 1\n",
    "\n",
    "    # Reajusta os IDs de itens\n",
    "    # item_map = {item_antigo: novo_id for novo_id, item_antigo in enumerate(df_user_item['item'].unique())}\n",
    "    # df_user_item['org_item'] = df_user_item['item']  # Adiciona uma coluna para o ID de item antigo\n",
    "    # df_user_item['item'] = df_user_item['item'].map(item_map)\n",
    "\n",
    "    items = df_user_item['item'].unique()\n",
    "    items.sort()\n",
    "    new_id = 0\n",
    "    for i in items:\n",
    "        df_user_item.loc[df_user_item['item'] == i, 'org_item'] = i\n",
    "        df_user_item.loc[df_user_item['item'] == i, 'item'] = new_id\n",
    "        new_id = new_id + 1\n",
    "    \n",
    "    df_user_item['rate'] = df_user_item['rate'].clip(0.0, 5.0)\n",
    "\n",
    "    ### Redução de dimensionalidade, se desejado\n",
    "    ### df_ratings_complete = reduce_dimensionality(df_user_item, len(users), len(items))\n",
    "    return df_user_item\n",
    "\n",
    "    \n",
    "df_ratings_complete = pre_process_dataset()"
   ]
  },
  {
   "cell_type": "code",
   "execution_count": 19,
   "id": "093df1ca",
   "metadata": {},
   "outputs": [
    {
     "data": {
      "text/html": [
       "<div>\n",
       "<style scoped>\n",
       "    .dataframe tbody tr th:only-of-type {\n",
       "        vertical-align: middle;\n",
       "    }\n",
       "\n",
       "    .dataframe tbody tr th {\n",
       "        vertical-align: top;\n",
       "    }\n",
       "\n",
       "    .dataframe thead th {\n",
       "        text-align: right;\n",
       "    }\n",
       "</style>\n",
       "<table border=\"1\" class=\"dataframe\">\n",
       "  <thead>\n",
       "    <tr style=\"text-align: right;\">\n",
       "      <th></th>\n",
       "      <th>id_nota_rec</th>\n",
       "      <th>rate</th>\n",
       "      <th>user</th>\n",
       "      <th>item</th>\n",
       "      <th>org_user</th>\n",
       "      <th>org_item</th>\n",
       "    </tr>\n",
       "  </thead>\n",
       "  <tbody>\n",
       "    <tr>\n",
       "      <th>0</th>\n",
       "      <td>1</td>\n",
       "      <td>5.0</td>\n",
       "      <td>489</td>\n",
       "      <td>1321.0</td>\n",
       "      <td>859.0</td>\n",
       "      <td>9444.0</td>\n",
       "    </tr>\n",
       "    <tr>\n",
       "      <th>1</th>\n",
       "      <td>2</td>\n",
       "      <td>5.0</td>\n",
       "      <td>489</td>\n",
       "      <td>1314.0</td>\n",
       "      <td>859.0</td>\n",
       "      <td>9436.0</td>\n",
       "    </tr>\n",
       "    <tr>\n",
       "      <th>2</th>\n",
       "      <td>3</td>\n",
       "      <td>5.0</td>\n",
       "      <td>489</td>\n",
       "      <td>1315.0</td>\n",
       "      <td>859.0</td>\n",
       "      <td>9437.0</td>\n",
       "    </tr>\n",
       "    <tr>\n",
       "      <th>3</th>\n",
       "      <td>4</td>\n",
       "      <td>5.0</td>\n",
       "      <td>489</td>\n",
       "      <td>1316.0</td>\n",
       "      <td>859.0</td>\n",
       "      <td>9438.0</td>\n",
       "    </tr>\n",
       "    <tr>\n",
       "      <th>4</th>\n",
       "      <td>5</td>\n",
       "      <td>5.0</td>\n",
       "      <td>489</td>\n",
       "      <td>1317.0</td>\n",
       "      <td>859.0</td>\n",
       "      <td>9439.0</td>\n",
       "    </tr>\n",
       "  </tbody>\n",
       "</table>\n",
       "</div>"
      ],
      "text/plain": [
       "   id_nota_rec  rate  user    item  org_user  org_item\n",
       "0            1   5.0   489  1321.0     859.0    9444.0\n",
       "1            2   5.0   489  1314.0     859.0    9436.0\n",
       "2            3   5.0   489  1315.0     859.0    9437.0\n",
       "3            4   5.0   489  1316.0     859.0    9438.0\n",
       "4            5   5.0   489  1317.0     859.0    9439.0"
      ]
     },
     "execution_count": 19,
     "metadata": {},
     "output_type": "execute_result"
    }
   ],
   "source": [
    "df_ratings_complete.head()"
   ]
  },
  {
   "cell_type": "code",
   "execution_count": 7,
   "id": "d4b72a2e",
   "metadata": {},
   "outputs": [],
   "source": [
    "users = df_ratings_complete['user'].unique()\n",
    "items = df_ratings_complete['item'].unique()"
   ]
  },
  {
   "cell_type": "code",
   "execution_count": 20,
   "id": "45cfc185",
   "metadata": {},
   "outputs": [
    {
     "data": {
      "text/plain": [
       "1130"
      ]
     },
     "execution_count": 20,
     "metadata": {},
     "output_type": "execute_result"
    }
   ],
   "source": [
    "len(users)"
   ]
  },
  {
   "cell_type": "code",
   "execution_count": 21,
   "id": "3a0f6c19",
   "metadata": {},
   "outputs": [
    {
     "data": {
      "text/plain": [
       "1129"
      ]
     },
     "execution_count": 21,
     "metadata": {},
     "output_type": "execute_result"
    }
   ],
   "source": [
    "df_ratings_complete['user'].max()"
   ]
  },
  {
   "cell_type": "code",
   "execution_count": null,
   "id": "ccedad0d",
   "metadata": {},
   "outputs": [],
   "source": []
  }
 ],
 "metadata": {
  "kernelspec": {
   "display_name": "Python 3 (ipykernel)",
   "language": "python",
   "name": "python3"
  },
  "language_info": {
   "codemirror_mode": {
    "name": "ipython",
    "version": 3
   },
   "file_extension": ".py",
   "mimetype": "text/x-python",
   "name": "python",
   "nbconvert_exporter": "python",
   "pygments_lexer": "ipython3",
   "version": "3.11.5"
  }
 },
 "nbformat": 4,
 "nbformat_minor": 5
}
